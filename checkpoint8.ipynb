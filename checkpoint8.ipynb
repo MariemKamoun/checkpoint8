{
 "cells": [
  {
   "cell_type": "code",
   "execution_count": 64,
   "id": "50e65269",
   "metadata": {},
   "outputs": [
    {
     "name": "stdout",
     "output_type": "stream",
     "text": [
      "entrez le nombre de lignes: 2\n",
      "What is Python language?              \n",
      "\n",
      "Python is a widely used high-level, general-purpose, interpreted, dynamic programming language.Its design philosophy emphasizes code readability, and its syntax allows programmers to express concepts in fewer lines of code than possible in languages such as C++ or Java. \n",
      "\n",
      "entrez le nombres des dernières lignes nécessaires2\n",
      "x: 2\n",
      "The best way we learn anything is by practice and exercise questions.\n",
      "\n",
      "We  have started this section for those (beginner to intermediate) who are familiar with Python.\n",
      "votre texte: cuzr ncaurg canir\n",
      "3\n"
     ]
    }
   ],
   "source": [
    "n=int(input(\"entrez le nombre de lignes: \"))\n",
    "f=open(\"python.txt\",encoding = 'utf-8')\n",
    "\n",
    "for i in range(n):\n",
    "    print(f.readline())\n",
    "\n",
    "f=open(\"python.txt\",encoding = 'utf-8')\n",
    "k=6\n",
    "x=int(input(\"entrez le nombres des dernières lignes nécessaires\"))\n",
    "print(\"x:\",x)\n",
    "\n",
    "s=f.readlines()[(k-x):]\n",
    "for line in s:\n",
    "    print(line)\n",
    "\n",
    "    \n",
    "a=input(\"votre texte: \")\n",
    "with open(\"popcorn.txt\",'w',encoding = 'utf-8') as f:\n",
    "    f.write(a)\n",
    "print(len(a.split()))\n"
   ]
  },
  {
   "cell_type": "code",
   "execution_count": null,
   "id": "7f24d049",
   "metadata": {},
   "outputs": [],
   "source": []
  }
 ],
 "metadata": {
  "kernelspec": {
   "display_name": "Python 3",
   "language": "python",
   "name": "python3"
  },
  "language_info": {
   "codemirror_mode": {
    "name": "ipython",
    "version": 3
   },
   "file_extension": ".py",
   "mimetype": "text/x-python",
   "name": "python",
   "nbconvert_exporter": "python",
   "pygments_lexer": "ipython3",
   "version": "3.8.8"
  }
 },
 "nbformat": 4,
 "nbformat_minor": 5
}
